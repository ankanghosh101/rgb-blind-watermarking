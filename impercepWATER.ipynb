{
 "cells": [
  {
   "cell_type": "code",
   "execution_count": 1,
   "id": "39c19660",
   "metadata": {},
   "outputs": [],
   "source": [
    "import os\n",
    "import cv2\n",
    "import numpy as np\n",
    "import pandas as pd\n",
    "import threading\n",
    "from queue import Queue\n",
    "from skimage.metrics import structural_similarity as ssim\n",
    "from skimage.metrics import peak_signal_noise_ratio as psnr\n",
    "watermark_DIR = \"watermark\\\\WaterM.png\""
   ]
  },
  {
   "cell_type": "code",
   "execution_count": 2,
   "id": "f6cadd04",
   "metadata": {},
   "outputs": [],
   "source": [
    "def toprint(df):\n",
    "    columns_to_analyze = df.columns[1:]  # Start from the 2nd column (Column2)\n",
    "\n",
    "    max_values = df[columns_to_analyze].max()\n",
    "    min_values = df[columns_to_analyze].min()\n",
    "    mean_values = df[columns_to_analyze].mean()\n",
    "\n",
    "    print(\"Maximum values:\")\n",
    "    print(max_values)\n",
    "    print(\"\\nMinimum values:\")\n",
    "    print(min_values)\n",
    "    print(\"\\nMean values:\")\n",
    "    print(mean_values)\n",
    "    \n",
    "def imperceptibility(images_DIR):\n",
    "\n",
    "\n",
    "    def calculate_metrics(original_image, water, queue):\n",
    "\n",
    "        psnr_value = psnr(original_image, water)\n",
    "        ssim_value = ssim(original_image, water, channel_axis=-1)\n",
    "        correlation = np.corrcoef(original_image.flatten(), water.flatten())[0, 1]\n",
    "\n",
    "        queue.put((image_path, psnr_value, ssim_value, correlation))\n",
    "\n",
    "        return psnr_value, ssim_value, correlation\n",
    "\n",
    "\n",
    "\n",
    "    def get_image_names(folder_path):\n",
    "    \n",
    "        image_names = []\n",
    "        for filename in os.listdir(folder_path):\n",
    "            image_names.append(filename)\n",
    "        return image_names\n",
    "\n",
    "\n",
    "    \n",
    "    \n",
    "    image_names = get_image_names(images_DIR)\n",
    "    data = {'Image Name': [], 'PSNR': [], 'SSIM': [], 'CC': []}\n",
    "    queue = Queue() \n",
    "    threads = [] \n",
    "\n",
    "\n",
    "    for imgname in image_names:\n",
    "        image_path = images_DIR + imgname\n",
    "        image = cv2.imread(image_path)\n",
    "        water = cv2.imread(watermark_DIR)\n",
    "\n",
    "        # create a thread for each image pair and pass the queue as an argument\n",
    "        thread = threading.Thread(target=calculate_metrics, args=(image, water, queue))\n",
    "        threads.append(thread) # add the thread to the list\n",
    "        thread.start() # start the thread\n",
    "\n",
    "    for thread in threads:\n",
    "        thread.join() # wait for all threads to finish\n",
    "\n",
    "    while not queue.empty(): # get the results from the queue\n",
    "        image_path, psnr_value, ssim_value, correlation = queue.get()\n",
    "\n",
    "        data['Image Name'].append(os.path.basename(image_path))\n",
    "        data['PSNR'].append(psnr_value)\n",
    "        data['SSIM'].append(ssim_value)\n",
    "        data['CC'].append(correlation)\n",
    "\n",
    "\n",
    "\n",
    "    df = pd.DataFrame(data)\n",
    "\n",
    "\n",
    "    #print(df)\n",
    "    return df"
   ]
  },
  {
   "cell_type": "code",
   "execution_count": 5,
   "id": "c409a192-d1bc-419d-9bd3-024ec7b3a0b4",
   "metadata": {},
   "outputs": [
    {
     "name": "stdout",
     "output_type": "stream",
     "text": [
      "Maximum values:\n",
      "PSNR    41.027525\n",
      "SSIM     0.987170\n",
      "CC       0.999813\n",
      "dtype: float64\n",
      "\n",
      "Minimum values:\n",
      "PSNR    25.068264\n",
      "SSIM     0.977933\n",
      "CC       0.991896\n",
      "dtype: float64\n",
      "\n",
      "Mean values:\n",
      "PSNR    39.060178\n",
      "SSIM     0.984119\n",
      "CC       0.999246\n",
      "dtype: float64\n",
      "CPU times: total: 250 ms\n",
      "Wall time: 53.3 ms\n"
     ]
    }
   ],
   "source": [
    "%%time\n",
    "\n",
    "images_DIR = \"extracted\\\\\"\n",
    "df=imperceptibility(images_DIR)\n",
    "toprint(df)\n"
   ]
  },
  {
   "cell_type": "code",
   "execution_count": 5,
   "id": "4d07eccb",
   "metadata": {},
   "outputs": [],
   "source": [
    "df.to_csv('fileWATER.csv')"
   ]
  },
  {
   "cell_type": "code",
   "execution_count": 6,
   "id": "5d4dfe64",
   "metadata": {},
   "outputs": [
    {
     "name": "stdout",
     "output_type": "stream",
     "text": [
      "Maximum values:\n",
      "PSNR    10.926574\n",
      "SSIM     0.785872\n",
      "CC       0.876710\n",
      "dtype: float64\n",
      "\n",
      "Minimum values:\n",
      "PSNR    4.969273\n",
      "SSIM    0.146381\n",
      "CC      0.126755\n",
      "dtype: float64\n",
      "\n",
      "Mean values:\n",
      "PSNR    9.726286\n",
      "SSIM    0.653622\n",
      "CC      0.715612\n",
      "dtype: float64\n",
      "CPU times: total: 39 s\n",
      "Wall time: 5.23 s\n"
     ]
    }
   ],
   "source": [
    "%%time\n",
    "images_DIR = \"attack\\\\extracted\\\\rotation\\\\\"\n",
    "df=imperceptibility(images_DIR)\n",
    "toprint(df)"
   ]
  },
  {
   "cell_type": "code",
   "execution_count": 7,
   "id": "c05bb435-15ac-4652-9a38-e57d54fcef62",
   "metadata": {},
   "outputs": [
    {
     "name": "stdout",
     "output_type": "stream",
     "text": [
      "Maximum values:\n",
      "PSNR    11.393319\n",
      "SSIM     0.692258\n",
      "CC       0.988097\n",
      "dtype: float64\n",
      "\n",
      "Minimum values:\n",
      "PSNR    6.398190\n",
      "SSIM    0.192082\n",
      "CC      0.257612\n",
      "dtype: float64\n",
      "\n",
      "Mean values:\n",
      "PSNR    10.710475\n",
      "SSIM     0.613132\n",
      "CC       0.928766\n",
      "dtype: float64\n",
      "CPU times: total: 38 s\n",
      "Wall time: 5.12 s\n"
     ]
    }
   ],
   "source": [
    "%%time\n",
    "images_DIR = \"attack\\\\extracted\\\\downscale\\\\\"\n",
    "df=imperceptibility(images_DIR)\n",
    "toprint(df)"
   ]
  },
  {
   "cell_type": "code",
   "execution_count": 8,
   "id": "c9ab349e-c0b7-4d5f-87b7-0576882982bd",
   "metadata": {},
   "outputs": [
    {
     "name": "stdout",
     "output_type": "stream",
     "text": [
      "Maximum values:\n",
      "PSNR    15.906599\n",
      "SSIM     0.899607\n",
      "CC       0.997665\n",
      "dtype: float64\n",
      "\n",
      "Minimum values:\n",
      "PSNR    7.319070\n",
      "SSIM    0.311918\n",
      "CC      0.393419\n",
      "dtype: float64\n",
      "\n",
      "Mean values:\n",
      "PSNR    14.799247\n",
      "SSIM     0.839595\n",
      "CC       0.978215\n",
      "dtype: float64\n",
      "CPU times: total: 38.4 s\n",
      "Wall time: 5.15 s\n"
     ]
    }
   ],
   "source": [
    "%%time\n",
    "images_DIR = \"attack\\\\extracted\\\\upscale\\\\\"\n",
    "df=imperceptibility(images_DIR)\n",
    "toprint(df)"
   ]
  },
  {
   "cell_type": "code",
   "execution_count": 9,
   "id": "d8e33cb5-9ae6-4412-acc4-f2a91615e905",
   "metadata": {},
   "outputs": [
    {
     "name": "stdout",
     "output_type": "stream",
     "text": [
      "Maximum values:\n",
      "PSNR    10.471232\n",
      "SSIM     0.618321\n",
      "CC       0.985513\n",
      "dtype: float64\n",
      "\n",
      "Minimum values:\n",
      "PSNR    6.877980\n",
      "SSIM    0.229339\n",
      "CC      0.299578\n",
      "dtype: float64\n",
      "\n",
      "Mean values:\n",
      "PSNR    10.058873\n",
      "SSIM     0.560444\n",
      "CC       0.949507\n",
      "dtype: float64\n",
      "CPU times: total: 38.8 s\n",
      "Wall time: 5.23 s\n"
     ]
    }
   ],
   "source": [
    "%%time\n",
    "images_DIR = \"attack\\\\extracted\\\\gaussBlurr\\\\\"\n",
    "df=imperceptibility(images_DIR)\n",
    "toprint(df)"
   ]
  },
  {
   "cell_type": "code",
   "execution_count": 10,
   "id": "6e51f7c7-6ff1-40e8-bd9b-53d4f62c4b6a",
   "metadata": {},
   "outputs": [
    {
     "name": "stdout",
     "output_type": "stream",
     "text": [
      "Maximum values:\n",
      "PSNR    20.504006\n",
      "SSIM     0.897294\n",
      "CC       0.975630\n",
      "dtype: float64\n",
      "\n",
      "Minimum values:\n",
      "PSNR    7.164110\n",
      "SSIM    0.328779\n",
      "CC      0.424311\n",
      "dtype: float64\n",
      "\n",
      "Mean values:\n",
      "PSNR    17.648494\n",
      "SSIM     0.846110\n",
      "CC       0.945860\n",
      "dtype: float64\n",
      "CPU times: total: 38.5 s\n",
      "Wall time: 5.12 s\n"
     ]
    }
   ],
   "source": [
    "%%time\n",
    "images_DIR = \"attack\\\\extracted\\\\saltpepper\\\\\"\n",
    "df=imperceptibility(images_DIR)\n",
    "toprint(df)"
   ]
  },
  {
   "cell_type": "code",
   "execution_count": 6,
   "id": "3bc4fdb7-e99f-41e9-a491-b7873677a599",
   "metadata": {},
   "outputs": [
    {
     "name": "stdout",
     "output_type": "stream",
     "text": [
      "Maximum values:\n",
      "PSNR    14.646523\n",
      "SSIM     0.777799\n",
      "CC       0.917236\n",
      "dtype: float64\n",
      "\n",
      "Minimum values:\n",
      "PSNR    13.525978\n",
      "SSIM     0.737587\n",
      "CC       0.874440\n",
      "dtype: float64\n",
      "\n",
      "Mean values:\n",
      "PSNR    13.990090\n",
      "SSIM     0.755407\n",
      "CC       0.894842\n",
      "dtype: float64\n",
      "CPU times: total: 297 ms\n",
      "Wall time: 42 ms\n"
     ]
    }
   ],
   "source": [
    "%%time\n",
    "#50%\n",
    "images_DIR = \"attack\\\\extracted\\\\jpeg50\\\\\"\n",
    "df=imperceptibility(images_DIR)\n",
    "toprint(df)"
   ]
  },
  {
   "cell_type": "code",
   "execution_count": 12,
   "id": "bf1873a4-7ef2-461e-827f-429ce5ae8b59",
   "metadata": {},
   "outputs": [
    {
     "name": "stdout",
     "output_type": "stream",
     "text": [
      "Maximum values:\n",
      "PSNR    34.521770\n",
      "SSIM     0.970510\n",
      "CC       0.999136\n",
      "dtype: float64\n",
      "\n",
      "Minimum values:\n",
      "PSNR    7.099818\n",
      "SSIM    0.320819\n",
      "CC      0.412302\n",
      "dtype: float64\n",
      "\n",
      "Mean values:\n",
      "PSNR    25.566869\n",
      "SSIM     0.915742\n",
      "CC       0.980247\n",
      "dtype: float64\n",
      "CPU times: total: 38.2 s\n",
      "Wall time: 5.18 s\n"
     ]
    }
   ],
   "source": [
    "%%time\n",
    "#95% default\n",
    "images_DIR = \"attack\\\\extracted\\\\jpeg\\\\\"\n",
    "df=imperceptibility(images_DIR)\n",
    "toprint(df)"
   ]
  },
  {
   "cell_type": "code",
   "execution_count": 3,
   "id": "775f869b-3559-4646-ae39-3b6a546fc1a4",
   "metadata": {},
   "outputs": [
    {
     "name": "stdout",
     "output_type": "stream",
     "text": [
      "Maximum values:\n",
      "PSNR    10.769013\n",
      "SSIM     0.618786\n",
      "CC       0.777135\n",
      "dtype: float64\n",
      "\n",
      "Minimum values:\n",
      "PSNR    9.269633\n",
      "SSIM    0.471354\n",
      "CC      0.704611\n",
      "dtype: float64\n",
      "\n",
      "Mean values:\n",
      "PSNR    10.163690\n",
      "SSIM     0.561979\n",
      "CC       0.741825\n",
      "dtype: float64\n",
      "CPU times: total: 1.12 s\n",
      "Wall time: 101 ms\n"
     ]
    }
   ],
   "source": [
    "%%time\n",
    "#30%\n",
    "images_DIR = \"attack\\\\extracted\\\\jpeg30\\\\\"\n",
    "df=imperceptibility(images_DIR)\n",
    "toprint(df)\n"
   ]
  },
  {
   "cell_type": "code",
   "execution_count": 4,
   "id": "5277ebf9-ac6b-4305-abeb-692da24e2ac3",
   "metadata": {},
   "outputs": [
    {
     "name": "stdout",
     "output_type": "stream",
     "text": [
      "Maximum values:\n",
      "PSNR    12.849209\n",
      "SSIM     0.719683\n",
      "CC       0.877991\n",
      "dtype: float64\n",
      "\n",
      "Minimum values:\n",
      "PSNR    11.982337\n",
      "SSIM     0.670211\n",
      "CC       0.818624\n",
      "dtype: float64\n",
      "\n",
      "Mean values:\n",
      "PSNR    12.402728\n",
      "SSIM     0.689031\n",
      "CC       0.846461\n",
      "dtype: float64\n",
      "CPU times: total: 688 ms\n",
      "Wall time: 97 ms\n"
     ]
    }
   ],
   "source": [
    "\n",
    "%%time\n",
    "#40%\n",
    "images_DIR = \"attack\\\\extracted\\\\jpeg40\\\\\"\n",
    "df=imperceptibility(images_DIR)\n",
    "toprint(df)\n"
   ]
  },
  {
   "cell_type": "code",
   "execution_count": 5,
   "id": "eb2c4cb9-6f9c-408d-9c3d-3426804d5b0e",
   "metadata": {},
   "outputs": [
    {
     "name": "stdout",
     "output_type": "stream",
     "text": [
      "Maximum values:\n",
      "PSNR    16.570882\n",
      "SSIM     0.827184\n",
      "CC       0.945969\n",
      "dtype: float64\n",
      "\n",
      "Minimum values:\n",
      "PSNR    14.622681\n",
      "SSIM     0.762977\n",
      "CC       0.901942\n",
      "dtype: float64\n",
      "\n",
      "Mean values:\n",
      "PSNR    15.721656\n",
      "SSIM     0.804361\n",
      "CC       0.929360\n",
      "dtype: float64\n",
      "CPU times: total: 719 ms\n",
      "Wall time: 99 ms\n"
     ]
    }
   ],
   "source": [
    "\n",
    "%%time\n",
    "#60%\n",
    "images_DIR = \"attack\\\\extracted\\\\jpeg60\\\\\"\n",
    "df=imperceptibility(images_DIR)\n",
    "toprint(df)\n"
   ]
  },
  {
   "cell_type": "code",
   "execution_count": 6,
   "id": "653c19e8-b6de-46ef-b60a-876ede5435a5",
   "metadata": {},
   "outputs": [
    {
     "name": "stdout",
     "output_type": "stream",
     "text": [
      "Maximum values:\n",
      "PSNR    19.181898\n",
      "SSIM     0.865441\n",
      "CC       0.969102\n",
      "dtype: float64\n",
      "\n",
      "Minimum values:\n",
      "PSNR    16.134127\n",
      "SSIM     0.802668\n",
      "CC       0.932788\n",
      "dtype: float64\n",
      "\n",
      "Mean values:\n",
      "PSNR    17.833328\n",
      "SSIM     0.840158\n",
      "CC       0.956077\n",
      "dtype: float64\n",
      "CPU times: total: 734 ms\n",
      "Wall time: 100 ms\n"
     ]
    }
   ],
   "source": [
    "\n",
    "%%time\n",
    "#70%\n",
    "images_DIR = \"attack\\\\extracted\\\\jpeg70\\\\\"\n",
    "df=imperceptibility(images_DIR)\n",
    "toprint(df)\n"
   ]
  },
  {
   "cell_type": "code",
   "execution_count": 7,
   "id": "f4547051-cfa3-4b8e-8a7f-6a74e9d94b88",
   "metadata": {},
   "outputs": [
    {
     "name": "stdout",
     "output_type": "stream",
     "text": [
      "Maximum values:\n",
      "PSNR    21.618743\n",
      "SSIM     0.898234\n",
      "CC       0.982698\n",
      "dtype: float64\n",
      "\n",
      "Minimum values:\n",
      "PSNR    17.583858\n",
      "SSIM     0.829974\n",
      "CC       0.953353\n",
      "dtype: float64\n",
      "\n",
      "Mean values:\n",
      "PSNR    19.963099\n",
      "SSIM     0.868373\n",
      "CC       0.972898\n",
      "dtype: float64\n",
      "CPU times: total: 609 ms\n",
      "Wall time: 100 ms\n"
     ]
    }
   ],
   "source": [
    "\n",
    "%%time\n",
    "#80%\n",
    "images_DIR = \"attack\\\\extracted\\\\jpeg80\\\\\"\n",
    "df=imperceptibility(images_DIR)\n",
    "toprint(df)"
   ]
  },
  {
   "cell_type": "code",
   "execution_count": 3,
   "id": "0a62a4ae-8b89-4687-b2e1-835310b7f14e",
   "metadata": {},
   "outputs": [
    {
     "name": "stdout",
     "output_type": "stream",
     "text": [
      "Maximum values:\n",
      "PSNR    11.315497\n",
      "SSIM     0.661126\n",
      "CC       0.999454\n",
      "dtype: float64\n",
      "\n",
      "Minimum values:\n",
      "PSNR    11.010891\n",
      "SSIM     0.648183\n",
      "CC       0.991394\n",
      "dtype: float64\n",
      "\n",
      "Mean values:\n",
      "PSNR    11.284157\n",
      "SSIM     0.658718\n",
      "CC       0.998871\n",
      "dtype: float64\n",
      "CPU times: total: 1.5 s\n",
      "Wall time: 162 ms\n"
     ]
    }
   ],
   "source": [
    "\n",
    "%%time\n",
    "\n",
    "images_DIR = \"attack\\\\extracted\\\\bright05\\\\\"\n",
    "df=imperceptibility(images_DIR)\n",
    "toprint(df)"
   ]
  },
  {
   "cell_type": "code",
   "execution_count": 4,
   "id": "e136d1fc-f32e-46e3-aa8a-ed32b5063ff7",
   "metadata": {},
   "outputs": [
    {
     "name": "stdout",
     "output_type": "stream",
     "text": [
      "Maximum values:\n",
      "PSNR    13.255015\n",
      "SSIM     0.789651\n",
      "CC       0.999621\n",
      "dtype: float64\n",
      "\n",
      "Minimum values:\n",
      "PSNR    12.758414\n",
      "SSIM     0.775123\n",
      "CC       0.991556\n",
      "dtype: float64\n",
      "\n",
      "Mean values:\n",
      "PSNR    13.205817\n",
      "SSIM     0.786664\n",
      "CC       0.999048\n",
      "dtype: float64\n",
      "CPU times: total: 672 ms\n",
      "Wall time: 101 ms\n"
     ]
    }
   ],
   "source": [
    "%%time\n",
    "\n",
    "images_DIR = \"attack\\\\extracted\\\\bright06\\\\\"\n",
    "df=imperceptibility(images_DIR)\n",
    "toprint(df)"
   ]
  },
  {
   "cell_type": "code",
   "execution_count": 5,
   "id": "00538383-f260-4a73-b8a7-7c8d2eb6b6bd",
   "metadata": {},
   "outputs": [
    {
     "name": "stdout",
     "output_type": "stream",
     "text": [
      "Maximum values:\n",
      "PSNR    15.772902\n",
      "SSIM     0.884180\n",
      "CC       0.999672\n",
      "dtype: float64\n",
      "\n",
      "Minimum values:\n",
      "PSNR    14.939028\n",
      "SSIM     0.870119\n",
      "CC       0.991657\n",
      "dtype: float64\n",
      "\n",
      "Mean values:\n",
      "PSNR    15.674387\n",
      "SSIM     0.880955\n",
      "CC       0.999084\n",
      "dtype: float64\n",
      "CPU times: total: 641 ms\n",
      "Wall time: 103 ms\n"
     ]
    }
   ],
   "source": [
    "%%time\n",
    "\n",
    "images_DIR = \"attack\\\\extracted\\\\bright07\\\\\"\n",
    "df=imperceptibility(images_DIR)\n",
    "toprint(df)"
   ]
  },
  {
   "cell_type": "code",
   "execution_count": 6,
   "id": "9e8bc3f7-e1ef-4924-a91c-c7b53b2a28ed",
   "metadata": {},
   "outputs": [
    {
     "name": "stdout",
     "output_type": "stream",
     "text": [
      "Maximum values:\n",
      "PSNR    19.266971\n",
      "SSIM     0.945281\n",
      "CC       0.999702\n",
      "dtype: float64\n",
      "\n",
      "Minimum values:\n",
      "PSNR    17.741710\n",
      "SSIM     0.932592\n",
      "CC       0.991670\n",
      "dtype: float64\n",
      "\n",
      "Mean values:\n",
      "PSNR    19.119844\n",
      "SSIM     0.942300\n",
      "CC       0.999118\n",
      "dtype: float64\n",
      "CPU times: total: 844 ms\n",
      "Wall time: 100 ms\n"
     ]
    }
   ],
   "source": [
    "%%time\n",
    "\n",
    "images_DIR = \"attack\\\\extracted\\\\bright08\\\\\"\n",
    "df=imperceptibility(images_DIR)\n",
    "toprint(df)"
   ]
  },
  {
   "cell_type": "code",
   "execution_count": 7,
   "id": "3b23c49c-8e3c-40e7-9fe7-3a715128fafc",
   "metadata": {},
   "outputs": [
    {
     "name": "stdout",
     "output_type": "stream",
     "text": [
      "Maximum values:\n",
      "PSNR    25.202541\n",
      "SSIM     0.976629\n",
      "CC       0.999710\n",
      "dtype: float64\n",
      "\n",
      "Minimum values:\n",
      "PSNR    21.464494\n",
      "SSIM     0.964808\n",
      "CC       0.991750\n",
      "dtype: float64\n",
      "\n",
      "Mean values:\n",
      "PSNR    24.841332\n",
      "SSIM     0.973849\n",
      "CC       0.999137\n",
      "dtype: float64\n",
      "CPU times: total: 750 ms\n",
      "Wall time: 104 ms\n"
     ]
    }
   ],
   "source": [
    "%%time\n",
    "\n",
    "images_DIR = \"attack\\\\extracted\\\\bright09\\\\\"\n",
    "df=imperceptibility(images_DIR)\n",
    "toprint(df)"
   ]
  },
  {
   "cell_type": "code",
   "execution_count": 8,
   "id": "a0d8712c-7c85-4c4f-aee2-7f75423c57c5",
   "metadata": {},
   "outputs": [
    {
     "name": "stdout",
     "output_type": "stream",
     "text": [
      "Maximum values:\n",
      "PSNR    29.944520\n",
      "SSIM     0.975831\n",
      "CC       0.998413\n",
      "dtype: float64\n",
      "\n",
      "Minimum values:\n",
      "PSNR    25.106523\n",
      "SSIM     0.956428\n",
      "CC       0.992004\n",
      "dtype: float64\n",
      "\n",
      "Mean values:\n",
      "PSNR    29.272953\n",
      "SSIM     0.970324\n",
      "CC       0.997614\n",
      "dtype: float64\n",
      "CPU times: total: 688 ms\n",
      "Wall time: 110 ms\n"
     ]
    }
   ],
   "source": [
    "%%time\n",
    "\n",
    "images_DIR = \"attack\\\\extracted\\\\bright11\\\\\"\n",
    "df=imperceptibility(images_DIR)\n",
    "toprint(df)"
   ]
  },
  {
   "cell_type": "code",
   "execution_count": 9,
   "id": "1a3bbd8a-0b96-460c-b1a0-ce72fa11ea2f",
   "metadata": {},
   "outputs": [
    {
     "name": "stdout",
     "output_type": "stream",
     "text": [
      "Maximum values:\n",
      "PSNR    26.877262\n",
      "SSIM     0.964636\n",
      "CC       0.996682\n",
      "dtype: float64\n",
      "\n",
      "Minimum values:\n",
      "PSNR    13.947314\n",
      "SSIM     0.794619\n",
      "CC       0.886584\n",
      "dtype: float64\n",
      "\n",
      "Mean values:\n",
      "PSNR    22.871136\n",
      "SSIM     0.915597\n",
      "CC       0.977620\n",
      "dtype: float64\n",
      "CPU times: total: 688 ms\n",
      "Wall time: 100 ms\n"
     ]
    }
   ],
   "source": [
    "%%time\n",
    "\n",
    "images_DIR = \"attack\\\\extracted\\\\bright12\\\\\"\n",
    "df=imperceptibility(images_DIR)\n",
    "toprint(df)"
   ]
  },
  {
   "cell_type": "code",
   "execution_count": 10,
   "id": "8cb3a224-2feb-4498-be02-dd613ebaa5f2",
   "metadata": {},
   "outputs": [
    {
     "name": "stdout",
     "output_type": "stream",
     "text": [
      "Maximum values:\n",
      "PSNR    24.184520\n",
      "SSIM     0.951934\n",
      "CC       0.993549\n",
      "dtype: float64\n",
      "\n",
      "Minimum values:\n",
      "PSNR    8.868193\n",
      "SSIM    0.546938\n",
      "CC      0.624683\n",
      "dtype: float64\n",
      "\n",
      "Mean values:\n",
      "PSNR    16.757990\n",
      "SSIM     0.799753\n",
      "CC       0.911636\n",
      "dtype: float64\n",
      "CPU times: total: 703 ms\n",
      "Wall time: 98.3 ms\n"
     ]
    }
   ],
   "source": [
    "%%time\n",
    "\n",
    "images_DIR = \"attack\\\\extracted\\\\bright13\\\\\"\n",
    "df=imperceptibility(images_DIR)\n",
    "toprint(df)"
   ]
  },
  {
   "cell_type": "code",
   "execution_count": 11,
   "id": "b2a6c54d-772e-4c5c-8628-9a9ed4224ee4",
   "metadata": {},
   "outputs": [
    {
     "name": "stdout",
     "output_type": "stream",
     "text": [
      "Maximum values:\n",
      "PSNR    26.587281\n",
      "SSIM     0.941689\n",
      "CC       0.994818\n",
      "dtype: float64\n",
      "\n",
      "Minimum values:\n",
      "PSNR    7.769502\n",
      "SSIM    0.313805\n",
      "CC      0.511706\n",
      "dtype: float64\n",
      "\n",
      "Mean values:\n",
      "PSNR    14.159920\n",
      "SSIM     0.678815\n",
      "CC       0.844152\n",
      "dtype: float64\n",
      "CPU times: total: 828 ms\n",
      "Wall time: 111 ms\n"
     ]
    }
   ],
   "source": [
    "%%time\n",
    "\n",
    "images_DIR = \"attack\\\\extracted\\\\bright14\\\\\"\n",
    "df=imperceptibility(images_DIR)\n",
    "toprint(df)"
   ]
  },
  {
   "cell_type": "code",
   "execution_count": 12,
   "id": "ebb23ef7-afdd-4752-b4c2-7ec118aaf1a5",
   "metadata": {},
   "outputs": [
    {
     "name": "stdout",
     "output_type": "stream",
     "text": [
      "Maximum values:\n",
      "PSNR    24.820982\n",
      "SSIM     0.933599\n",
      "CC       0.991357\n",
      "dtype: float64\n",
      "\n",
      "Minimum values:\n",
      "PSNR    6.749012\n",
      "SSIM    0.127481\n",
      "CC      0.474007\n",
      "dtype: float64\n",
      "\n",
      "Mean values:\n",
      "PSNR    12.386751\n",
      "SSIM     0.593277\n",
      "CC       0.786079\n",
      "dtype: float64\n",
      "CPU times: total: 766 ms\n",
      "Wall time: 101 ms\n"
     ]
    }
   ],
   "source": [
    "%%time\n",
    "\n",
    "images_DIR = \"attack\\\\extracted\\\\bright15\\\\\"\n",
    "df=imperceptibility(images_DIR)\n",
    "toprint(df)"
   ]
  },
  {
   "cell_type": "code",
   "execution_count": 3,
   "id": "c43dca42-0491-492f-8a97-e37b508f2f79",
   "metadata": {},
   "outputs": [
    {
     "name": "stdout",
     "output_type": "stream",
     "text": [
      "Maximum values:\n",
      "PSNR    12.298336\n",
      "SSIM     0.745813\n",
      "CC       0.844542\n",
      "dtype: float64\n",
      "\n",
      "Minimum values:\n",
      "PSNR    12.070299\n",
      "SSIM     0.736605\n",
      "CC       0.836257\n",
      "dtype: float64\n",
      "\n",
      "Mean values:\n",
      "PSNR    12.254204\n",
      "SSIM     0.741710\n",
      "CC       0.842831\n",
      "dtype: float64\n"
     ]
    }
   ],
   "source": [
    "\n",
    "images_DIR = \"attack\\\\extracted\\\\crop25UL\\\\\"\n",
    "df=imperceptibility(images_DIR)\n",
    "toprint(df)"
   ]
  },
  {
   "cell_type": "code",
   "execution_count": 4,
   "id": "e58ecdd2-de05-4bbd-a4d1-3052d97ebaea",
   "metadata": {},
   "outputs": [
    {
     "name": "stdout",
     "output_type": "stream",
     "text": [
      "Maximum values:\n",
      "PSNR    41.027525\n",
      "SSIM     0.987170\n",
      "CC       0.999813\n",
      "dtype: float64\n",
      "\n",
      "Minimum values:\n",
      "PSNR    25.068285\n",
      "SSIM     0.977933\n",
      "CC       0.991896\n",
      "dtype: float64\n",
      "\n",
      "Mean values:\n",
      "PSNR    39.059917\n",
      "SSIM     0.984119\n",
      "CC       0.999246\n",
      "dtype: float64\n"
     ]
    }
   ],
   "source": [
    "images_DIR = \"attack\\\\extracted\\\\crop25W\\\\\"\n",
    "df=imperceptibility(images_DIR)\n",
    "toprint(df)"
   ]
  },
  {
   "cell_type": "code",
   "execution_count": 13,
   "id": "58eef3b8-9413-4afc-9bc4-e019bd58e4ff",
   "metadata": {},
   "outputs": [],
   "source": [
    "#df.to_csv('fileWATER.csv')"
   ]
  },
  {
   "cell_type": "code",
   "execution_count": null,
   "id": "9bec28aa-1177-458e-981f-f57154a38b2f",
   "metadata": {},
   "outputs": [],
   "source": []
  }
 ],
 "metadata": {
  "kernelspec": {
   "display_name": "Python 3 (ipykernel)",
   "language": "python",
   "name": "python3"
  },
  "language_info": {
   "codemirror_mode": {
    "name": "ipython",
    "version": 3
   },
   "file_extension": ".py",
   "mimetype": "text/x-python",
   "name": "python",
   "nbconvert_exporter": "python",
   "pygments_lexer": "ipython3",
   "version": "3.10.13"
  }
 },
 "nbformat": 4,
 "nbformat_minor": 5
}
