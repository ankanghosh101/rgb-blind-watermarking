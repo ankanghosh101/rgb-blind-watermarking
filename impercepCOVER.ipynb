{
 "cells": [
  {
   "cell_type": "code",
   "execution_count": 4,
   "id": "39c19660",
   "metadata": {},
   "outputs": [],
   "source": [
    "import os\n",
    "import cv2\n",
    "import numpy as np\n",
    "import pandas as pd\n",
    "import threading\n",
    "from queue import Queue\n",
    "from skimage.metrics import structural_similarity as ssim\n",
    "from skimage.metrics import peak_signal_noise_ratio as psnr\n",
    "\n",
    "datasetNAME = 'SIPI'\n",
    "if not os.path.exists('coverdata.csv'):\n",
    "    pd.DataFrame(columns=['METRIC','PSNR','SSIM','CC','DATASET']).to_csv('coverdata.csv', index=False)"
   ]
  },
  {
   "cell_type": "code",
   "execution_count": 5,
   "id": "37faf688-c42a-49bd-a7ad-dcce66a0f797",
   "metadata": {},
   "outputs": [],
   "source": [
    "def toprint(df):\n",
    "    columns_to_analyze = df.columns[1:]  # Start from the 2nd column (Column2)\n",
    "    max_values = df[columns_to_analyze].max()\n",
    "    min_values = df[columns_to_analyze].min()\n",
    "    mean_values = df[columns_to_analyze].mean()\n",
    "    \n",
    "    # Create a new DataFrame with max, min, and mean values\n",
    "    output_df = pd.DataFrame({\n",
    "        'Metric': ['Max', 'Min', 'Mean'],\n",
    "        'PSNR': [max_values['PSNR'], min_values['PSNR'], mean_values['PSNR']],\n",
    "        'SSIM': [max_values['SSIM'], min_values['SSIM'], mean_values['SSIM']],\n",
    "        'CC': [max_values['CC'], min_values['CC'], mean_values['CC']]\n",
    "    })\n",
    "    \n",
    "    # Add a new column 'Dataset' with value 'newdata01'\n",
    "    output_df['Dataset'] = datasetNAME\n",
    "    output_df.to_csv('coverdata.csv', mode='a', header=False, index=False)\n",
    "\n",
    "    return output_df"
   ]
  },
  {
   "cell_type": "code",
   "execution_count": 6,
   "id": "f6cadd04",
   "metadata": {},
   "outputs": [
    {
     "name": "stdout",
     "output_type": "stream",
     "text": [
      "CPU times: total: 11.3 s\n",
      "Wall time: 1.18 s\n"
     ]
    }
   ],
   "source": [
    "%%time\n",
    "\n",
    "\n",
    "def read_file(path):\n",
    "    img = cv2.imread(path)\n",
    "    return img\n",
    "\n",
    "def calculate_metrics(image_path, embedded_path, queue):\n",
    "    original_image = read_file(image_path)\n",
    "    embedded_image = read_file(embedded_path)\n",
    "    \n",
    "    psnr_value = psnr(original_image, embedded_image)\n",
    "    ssim_value = ssim(original_image, embedded_image, channel_axis=-1)\n",
    "    correlation = np.corrcoef(original_image.flatten(), embedded_image.flatten())[0, 1]\n",
    "    \n",
    "    queue.put((image_path, psnr_value, ssim_value, correlation))\n",
    "    \n",
    "    return psnr_value, ssim_value, correlation\n",
    "\n",
    "\n",
    "\n",
    "def get_image_names(folder_path):\n",
    "    image_names = []\n",
    "    for filename in os.listdir(folder_path):\n",
    "        image_names.append(filename)\n",
    "    return image_names\n",
    "\n",
    "\n",
    "images_DIR = \"imagespng\\\\\"\n",
    "embedded_DIR = \"embedded\\\\\"\n",
    "image_names = get_image_names(images_DIR)\n",
    "data = {'Image Name': [], 'PSNR': [], 'SSIM': [], 'CC': []}\n",
    "queue = Queue() \n",
    "threads = [] \n",
    "\n",
    "\n",
    "for imgname in image_names:\n",
    "    image_path = images_DIR + imgname\n",
    "    embedded_path = embedded_DIR + 'watermarked_image_' + imgname\n",
    "    \n",
    "    # create a thread for each image pair and pass the queue as an argument\n",
    "    thread = threading.Thread(target=calculate_metrics, args=(image_path, embedded_path, queue))\n",
    "    threads.append(thread) # add the thread to the list\n",
    "    thread.start() # start the thread\n",
    "\n",
    "for thread in threads:\n",
    "    thread.join() # wait for all threads to finish\n",
    "\n",
    "while not queue.empty(): # get the results from the queue\n",
    "    image_path, psnr_value, ssim_value, correlation = queue.get()\n",
    "    \n",
    "    data['Image Name'].append(os.path.basename(image_path))\n",
    "    data['PSNR'].append(psnr_value)\n",
    "    data['SSIM'].append(ssim_value)\n",
    "    data['CC'].append(correlation)\n",
    "    \n",
    "\n",
    "\n",
    "df = pd.DataFrame(data)\n",
    "\n",
    "\n",
    "\n"
   ]
  },
  {
   "cell_type": "code",
   "execution_count": 6,
   "id": "4d07eccb",
   "metadata": {},
   "outputs": [],
   "source": [
    "df.to_csv('filecover.csv')"
   ]
  },
  {
   "cell_type": "code",
   "execution_count": 8,
   "id": "2a67abc7-6e85-4079-bfa4-9f8d300ab4ee",
   "metadata": {},
   "outputs": [
    {
     "data": {
      "text/html": [
       "<div>\n",
       "<style scoped>\n",
       "    .dataframe tbody tr th:only-of-type {\n",
       "        vertical-align: middle;\n",
       "    }\n",
       "\n",
       "    .dataframe tbody tr th {\n",
       "        vertical-align: top;\n",
       "    }\n",
       "\n",
       "    .dataframe thead th {\n",
       "        text-align: right;\n",
       "    }\n",
       "</style>\n",
       "<table border=\"1\" class=\"dataframe\">\n",
       "  <thead>\n",
       "    <tr style=\"text-align: right;\">\n",
       "      <th></th>\n",
       "      <th>Metric</th>\n",
       "      <th>PSNR</th>\n",
       "      <th>SSIM</th>\n",
       "      <th>CC</th>\n",
       "      <th>Dataset</th>\n",
       "    </tr>\n",
       "  </thead>\n",
       "  <tbody>\n",
       "    <tr>\n",
       "      <th>0</th>\n",
       "      <td>Max</td>\n",
       "      <td>40.862977</td>\n",
       "      <td>0.983252</td>\n",
       "      <td>0.999381</td>\n",
       "      <td>SIPI</td>\n",
       "    </tr>\n",
       "    <tr>\n",
       "      <th>1</th>\n",
       "      <td>Min</td>\n",
       "      <td>37.422307</td>\n",
       "      <td>0.956894</td>\n",
       "      <td>0.995527</td>\n",
       "      <td>SIPI</td>\n",
       "    </tr>\n",
       "    <tr>\n",
       "      <th>2</th>\n",
       "      <td>Mean</td>\n",
       "      <td>39.297493</td>\n",
       "      <td>0.973974</td>\n",
       "      <td>0.997915</td>\n",
       "      <td>SIPI</td>\n",
       "    </tr>\n",
       "  </tbody>\n",
       "</table>\n",
       "</div>"
      ],
      "text/plain": [
       "  Metric       PSNR      SSIM        CC Dataset\n",
       "0    Max  40.862977  0.983252  0.999381    SIPI\n",
       "1    Min  37.422307  0.956894  0.995527    SIPI\n",
       "2   Mean  39.297493  0.973974  0.997915    SIPI"
      ]
     },
     "execution_count": 8,
     "metadata": {},
     "output_type": "execute_result"
    }
   ],
   "source": [
    "toprint(df)"
   ]
  }
 ],
 "metadata": {
  "kernelspec": {
   "display_name": "Python 3 (ipykernel)",
   "language": "python",
   "name": "python3"
  },
  "language_info": {
   "codemirror_mode": {
    "name": "ipython",
    "version": 3
   },
   "file_extension": ".py",
   "mimetype": "text/x-python",
   "name": "python",
   "nbconvert_exporter": "python",
   "pygments_lexer": "ipython3",
   "version": "3.10.13"
  }
 },
 "nbformat": 4,
 "nbformat_minor": 5
}
