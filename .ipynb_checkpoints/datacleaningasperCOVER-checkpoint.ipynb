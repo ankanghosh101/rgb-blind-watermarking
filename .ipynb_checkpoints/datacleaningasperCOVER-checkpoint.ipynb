{
 "cells": [
  {
   "cell_type": "code",
   "execution_count": 2,
   "id": "dfcccfe1-be02-47fb-aec5-4fcfa46b75b4",
   "metadata": {},
   "outputs": [
    {
     "name": "stdout",
     "output_type": "stream",
     "text": [
      "Deleted image0515artwork.png\n",
      "Deleted image0770artwork.png\n",
      "Deletion completed.\n"
     ]
    }
   ],
   "source": [
    "import pandas as pd\n",
    "import os\n",
    "import threading\n",
    "\n",
    "# Function to delete files\n",
    "def delete_files(file_names, folder_path):\n",
    "    for file_name in file_names:\n",
    "        file_path = os.path.join(folder_path, file_name)\n",
    "        if os.path.exists(file_path):\n",
    "            os.remove(file_path)\n",
    "            print(f\"Deleted {file_name}\")\n",
    "\n",
    "# Load the CSV file into a DataFrame\n",
    "df = pd.read_csv(\"filecover.csv\")\n",
    "\n",
    "# Filter the DataFrame based on the condition\n",
    "filtered_df = df[(df['PSNR'] < 37.01) & (~df['Image Name'].str.startswith(\"extracted_from_watermarked_image_\"))]\n",
    "\n",
    "# Get the image filenames to delete\n",
    "files_to_delete = filtered_df['Image Name']\n",
    "\n",
    "# Specify the folder path\n",
    "folder_path = \"imagespng\\\\\"\n",
    "\n",
    "# Number of threads to use\n",
    "num_threads = 16\n",
    "\n",
    "# Split the files into chunks for each thread\n",
    "file_chunks = [files_to_delete[i::num_threads] for i in range(num_threads)]\n",
    "\n",
    "# Create and start threads\n",
    "threads = []\n",
    "for chunk in file_chunks:\n",
    "    thread = threading.Thread(target=delete_files, args=(chunk, folder_path))\n",
    "    thread.start()\n",
    "    threads.append(thread)\n",
    "\n",
    "# Wait for all threads to finish\n",
    "for thread in threads:\n",
    "    thread.join()\n",
    "\n",
    "print(\"Deletion completed.\")\n"
   ]
  }
 ],
 "metadata": {
  "kernelspec": {
   "display_name": "Python 3 (ipykernel)",
   "language": "python",
   "name": "python3"
  },
  "language_info": {
   "codemirror_mode": {
    "name": "ipython",
    "version": 3
   },
   "file_extension": ".py",
   "mimetype": "text/x-python",
   "name": "python",
   "nbconvert_exporter": "python",
   "pygments_lexer": "ipython3",
   "version": "3.10.13"
  }
 },
 "nbformat": 4,
 "nbformat_minor": 5
}
