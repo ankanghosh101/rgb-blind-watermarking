{
 "cells": [
  {
   "cell_type": "code",
   "execution_count": 16,
   "id": "39c19660",
   "metadata": {},
   "outputs": [],
   "source": [
    "import os\n",
    "import cv2\n",
    "import numpy as np\n",
    "import pandas as pd\n",
    "import threading\n",
    "from queue import Queue\n",
    "from skimage.metrics import structural_similarity as ssim\n",
    "from skimage.metrics import peak_signal_noise_ratio as psnr\n",
    "watermark_DIR = \"watermark\\\\WaterM.png\""
   ]
  },
  {
   "cell_type": "code",
   "execution_count": 17,
   "id": "f6cadd04",
   "metadata": {},
   "outputs": [],
   "source": [
    "def toprint(df):\n",
    "    columns_to_analyze = df.columns[1:]  # Start from the 2nd column (Column2)\n",
    "\n",
    "    max_values = df[columns_to_analyze].max()\n",
    "    min_values = df[columns_to_analyze].min()\n",
    "    mean_values = df[columns_to_analyze].mean()\n",
    "\n",
    "    print(\"Maximum values:\")\n",
    "    print(max_values)\n",
    "    print(\"\\nMinimum values:\")\n",
    "    print(min_values)\n",
    "    print(\"\\nMean values:\")\n",
    "    print(mean_values)\n",
    "    \n",
    "def imperceptibility(images_DIR):\n",
    "\n",
    "\n",
    "    def calculate_metrics(original_image, water, queue):\n",
    "\n",
    "        psnr_value = psnr(original_image, water)\n",
    "        ssim_value = ssim(original_image, water, channel_axis=-1)\n",
    "        correlation = np.corrcoef(original_image.flatten(), water.flatten())[0, 1]\n",
    "\n",
    "        queue.put((image_path, psnr_value, ssim_value, correlation))\n",
    "\n",
    "        return psnr_value, ssim_value, correlation\n",
    "\n",
    "\n",
    "\n",
    "    def get_image_names(folder_path):\n",
    "    \n",
    "        image_names = []\n",
    "        for filename in os.listdir(folder_path):\n",
    "            image_names.append(filename)\n",
    "        return image_names\n",
    "\n",
    "\n",
    "    \n",
    "    \n",
    "    image_names = get_image_names(images_DIR)\n",
    "    data = {'Image Name': [], 'PSNR': [], 'SSIM': [], 'CC': []}\n",
    "    queue = Queue() \n",
    "    threads = [] \n",
    "\n",
    "\n",
    "    for imgname in image_names:\n",
    "        image_path = images_DIR + imgname\n",
    "        image = cv2.imread(image_path)\n",
    "        water = cv2.imread(watermark_DIR)\n",
    "\n",
    "        # create a thread for each image pair and pass the queue as an argument\n",
    "        thread = threading.Thread(target=calculate_metrics, args=(image, water, queue))\n",
    "        threads.append(thread) # add the thread to the list\n",
    "        thread.start() # start the thread\n",
    "\n",
    "    for thread in threads:\n",
    "        thread.join() # wait for all threads to finish\n",
    "\n",
    "    while not queue.empty(): # get the results from the queue\n",
    "        image_path, psnr_value, ssim_value, correlation = queue.get()\n",
    "\n",
    "        data['Image Name'].append(os.path.basename(image_path))\n",
    "        data['PSNR'].append(psnr_value)\n",
    "        data['SSIM'].append(ssim_value)\n",
    "        data['CC'].append(correlation)\n",
    "\n",
    "\n",
    "\n",
    "    df = pd.DataFrame(data)\n",
    "\n",
    "\n",
    "    #print(df)\n",
    "    return df"
   ]
  },
  {
   "cell_type": "code",
   "execution_count": 24,
   "id": "c409a192-d1bc-419d-9bd3-024ec7b3a0b4",
   "metadata": {},
   "outputs": [
    {
     "name": "stdout",
     "output_type": "stream",
     "text": [
      "Maximum values:\n",
      "PSNR    43.161993\n",
      "SSIM     0.994557\n",
      "CC       0.999886\n",
      "dtype: float64\n",
      "\n",
      "Minimum values:\n",
      "PSNR    10.682893\n",
      "SSIM     0.582234\n",
      "CC       0.822775\n",
      "dtype: float64\n",
      "\n",
      "Mean values:\n",
      "PSNR    31.122231\n",
      "SSIM     0.962886\n",
      "CC       0.990027\n",
      "dtype: float64\n",
      "CPU times: total: 23.2 s\n",
      "Wall time: 3.03 s\n"
     ]
    }
   ],
   "source": [
    "%%time\n",
    "\n",
    "images_DIR = \"extracted\\\\\"\n",
    "df=imperceptibility(images_DIR)\n",
    "toprint(df)\n"
   ]
  },
  {
   "cell_type": "code",
   "execution_count": 26,
   "id": "4d07eccb",
   "metadata": {},
   "outputs": [],
   "source": [
    "df.to_csv('fileWATER.csv')"
   ]
  },
  {
   "cell_type": "code",
   "execution_count": 6,
   "id": "5d4dfe64",
   "metadata": {},
   "outputs": [
    {
     "name": "stdout",
     "output_type": "stream",
     "text": [
      "Maximum values:\n",
      "PSNR    10.926574\n",
      "SSIM     0.785872\n",
      "CC       0.876710\n",
      "dtype: float64\n",
      "\n",
      "Minimum values:\n",
      "PSNR    4.969273\n",
      "SSIM    0.146381\n",
      "CC      0.126755\n",
      "dtype: float64\n",
      "\n",
      "Mean values:\n",
      "PSNR    9.726286\n",
      "SSIM    0.653622\n",
      "CC      0.715612\n",
      "dtype: float64\n",
      "CPU times: total: 39 s\n",
      "Wall time: 5.23 s\n"
     ]
    }
   ],
   "source": [
    "%%time\n",
    "images_DIR = \"attack\\\\extracted\\\\rotation\\\\\"\n",
    "df=imperceptibility(images_DIR)\n",
    "toprint(df)"
   ]
  },
  {
   "cell_type": "code",
   "execution_count": 7,
   "id": "c05bb435-15ac-4652-9a38-e57d54fcef62",
   "metadata": {},
   "outputs": [
    {
     "name": "stdout",
     "output_type": "stream",
     "text": [
      "Maximum values:\n",
      "PSNR    11.393319\n",
      "SSIM     0.692258\n",
      "CC       0.988097\n",
      "dtype: float64\n",
      "\n",
      "Minimum values:\n",
      "PSNR    6.398190\n",
      "SSIM    0.192082\n",
      "CC      0.257612\n",
      "dtype: float64\n",
      "\n",
      "Mean values:\n",
      "PSNR    10.710475\n",
      "SSIM     0.613132\n",
      "CC       0.928766\n",
      "dtype: float64\n",
      "CPU times: total: 38 s\n",
      "Wall time: 5.12 s\n"
     ]
    }
   ],
   "source": [
    "%%time\n",
    "images_DIR = \"attack\\\\extracted\\\\downscale\\\\\"\n",
    "df=imperceptibility(images_DIR)\n",
    "toprint(df)"
   ]
  },
  {
   "cell_type": "code",
   "execution_count": 8,
   "id": "c9ab349e-c0b7-4d5f-87b7-0576882982bd",
   "metadata": {},
   "outputs": [
    {
     "name": "stdout",
     "output_type": "stream",
     "text": [
      "Maximum values:\n",
      "PSNR    15.906599\n",
      "SSIM     0.899607\n",
      "CC       0.997665\n",
      "dtype: float64\n",
      "\n",
      "Minimum values:\n",
      "PSNR    7.319070\n",
      "SSIM    0.311918\n",
      "CC      0.393419\n",
      "dtype: float64\n",
      "\n",
      "Mean values:\n",
      "PSNR    14.799247\n",
      "SSIM     0.839595\n",
      "CC       0.978215\n",
      "dtype: float64\n",
      "CPU times: total: 38.4 s\n",
      "Wall time: 5.15 s\n"
     ]
    }
   ],
   "source": [
    "%%time\n",
    "images_DIR = \"attack\\\\extracted\\\\upscale\\\\\"\n",
    "df=imperceptibility(images_DIR)\n",
    "toprint(df)"
   ]
  },
  {
   "cell_type": "code",
   "execution_count": 9,
   "id": "d8e33cb5-9ae6-4412-acc4-f2a91615e905",
   "metadata": {},
   "outputs": [
    {
     "name": "stdout",
     "output_type": "stream",
     "text": [
      "Maximum values:\n",
      "PSNR    10.471232\n",
      "SSIM     0.618321\n",
      "CC       0.985513\n",
      "dtype: float64\n",
      "\n",
      "Minimum values:\n",
      "PSNR    6.877980\n",
      "SSIM    0.229339\n",
      "CC      0.299578\n",
      "dtype: float64\n",
      "\n",
      "Mean values:\n",
      "PSNR    10.058873\n",
      "SSIM     0.560444\n",
      "CC       0.949507\n",
      "dtype: float64\n",
      "CPU times: total: 38.8 s\n",
      "Wall time: 5.23 s\n"
     ]
    }
   ],
   "source": [
    "%%time\n",
    "images_DIR = \"attack\\\\extracted\\\\gaussBlurr\\\\\"\n",
    "df=imperceptibility(images_DIR)\n",
    "toprint(df)"
   ]
  },
  {
   "cell_type": "code",
   "execution_count": 10,
   "id": "6e51f7c7-6ff1-40e8-bd9b-53d4f62c4b6a",
   "metadata": {},
   "outputs": [
    {
     "name": "stdout",
     "output_type": "stream",
     "text": [
      "Maximum values:\n",
      "PSNR    20.504006\n",
      "SSIM     0.897294\n",
      "CC       0.975630\n",
      "dtype: float64\n",
      "\n",
      "Minimum values:\n",
      "PSNR    7.164110\n",
      "SSIM    0.328779\n",
      "CC      0.424311\n",
      "dtype: float64\n",
      "\n",
      "Mean values:\n",
      "PSNR    17.648494\n",
      "SSIM     0.846110\n",
      "CC       0.945860\n",
      "dtype: float64\n",
      "CPU times: total: 38.5 s\n",
      "Wall time: 5.12 s\n"
     ]
    }
   ],
   "source": [
    "%%time\n",
    "images_DIR = \"attack\\\\extracted\\\\saltpepper\\\\\"\n",
    "df=imperceptibility(images_DIR)\n",
    "toprint(df)"
   ]
  },
  {
   "cell_type": "code",
   "execution_count": 11,
   "id": "3bc4fdb7-e99f-41e9-a491-b7873677a599",
   "metadata": {},
   "outputs": [
    {
     "name": "stdout",
     "output_type": "stream",
     "text": [
      "Maximum values:\n",
      "PSNR    15.059940\n",
      "SSIM     0.808288\n",
      "CC       0.937711\n",
      "dtype: float64\n",
      "\n",
      "Minimum values:\n",
      "PSNR    5.916737\n",
      "SSIM    0.100665\n",
      "CC      0.259209\n",
      "dtype: float64\n",
      "\n",
      "Mean values:\n",
      "PSNR    13.063939\n",
      "SSIM     0.710675\n",
      "CC       0.861360\n",
      "dtype: float64\n",
      "CPU times: total: 38 s\n",
      "Wall time: 5.08 s\n"
     ]
    }
   ],
   "source": [
    "%%time\n",
    "#50%\n",
    "images_DIR = \"attack\\\\extracted\\\\jpeg50\\\\\"\n",
    "df=imperceptibility(images_DIR)\n",
    "toprint(df)"
   ]
  },
  {
   "cell_type": "code",
   "execution_count": 12,
   "id": "bf1873a4-7ef2-461e-827f-429ce5ae8b59",
   "metadata": {},
   "outputs": [
    {
     "name": "stdout",
     "output_type": "stream",
     "text": [
      "Maximum values:\n",
      "PSNR    34.521770\n",
      "SSIM     0.970510\n",
      "CC       0.999136\n",
      "dtype: float64\n",
      "\n",
      "Minimum values:\n",
      "PSNR    7.099818\n",
      "SSIM    0.320819\n",
      "CC      0.412302\n",
      "dtype: float64\n",
      "\n",
      "Mean values:\n",
      "PSNR    25.566869\n",
      "SSIM     0.915742\n",
      "CC       0.980247\n",
      "dtype: float64\n",
      "CPU times: total: 38.2 s\n",
      "Wall time: 5.18 s\n"
     ]
    }
   ],
   "source": [
    "%%time\n",
    "#95% default\n",
    "images_DIR = \"attack\\\\extracted\\\\jpeg\\\\\"\n",
    "df=imperceptibility(images_DIR)\n",
    "toprint(df)"
   ]
  },
  {
   "cell_type": "code",
   "execution_count": null,
   "id": "58eef3b8-9413-4afc-9bc4-e019bd58e4ff",
   "metadata": {},
   "outputs": [],
   "source": []
  }
 ],
 "metadata": {
  "kernelspec": {
   "display_name": "Python 3 (ipykernel)",
   "language": "python",
   "name": "python3"
  },
  "language_info": {
   "codemirror_mode": {
    "name": "ipython",
    "version": 3
   },
   "file_extension": ".py",
   "mimetype": "text/x-python",
   "name": "python",
   "nbconvert_exporter": "python",
   "pygments_lexer": "ipython3",
   "version": "3.10.13"
  }
 },
 "nbformat": 4,
 "nbformat_minor": 5
}
