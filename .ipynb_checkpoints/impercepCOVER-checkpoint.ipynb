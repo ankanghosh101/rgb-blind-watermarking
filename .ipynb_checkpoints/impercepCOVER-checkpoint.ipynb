{
 "cells": [
  {
   "cell_type": "code",
   "execution_count": 1,
   "id": "39c19660",
   "metadata": {},
   "outputs": [],
   "source": [
    "import os\n",
    "import cv2\n",
    "import numpy as np\n",
    "import pandas as pd\n",
    "import threading\n",
    "from queue import Queue\n",
    "from skimage.metrics import structural_similarity as ssim\n",
    "from skimage.metrics import peak_signal_noise_ratio as psnr"
   ]
  },
  {
   "cell_type": "code",
   "execution_count": 2,
   "id": "9dd0a935",
   "metadata": {},
   "outputs": [],
   "source": [
    "def toprint(df):\n",
    "    columns_to_analyze = df.columns[1:]  # Start from the 2nd column (Column2)\n",
    "\n",
    "    max_values = df[columns_to_analyze].max()\n",
    "    min_values = df[columns_to_analyze].min()\n",
    "    mean_values = df[columns_to_analyze].mean()\n",
    "\n",
    "    print(\"Maximum values:\")\n",
    "    print(max_values)\n",
    "    print(\"\\nMinimum values:\")\n",
    "    print(min_values)\n",
    "    print(\"\\nMean values:\")\n",
    "    print(mean_values)"
   ]
  },
  {
   "cell_type": "code",
   "execution_count": null,
   "id": "f6cadd04",
   "metadata": {},
   "outputs": [],
   "source": [
    "%%time\n",
    "\n",
    "\n",
    "def read_file(path):\n",
    "    img = cv2.imread(path)\n",
    "    return img\n",
    "\n",
    "def calculate_metrics(image_path, embedded_path, queue):\n",
    "    original_image = read_file(image_path)\n",
    "    embedded_image = read_file(embedded_path)\n",
    "    \n",
    "    psnr_value = psnr(original_image, embedded_image)\n",
    "    ssim_value = ssim(original_image, embedded_image, channel_axis=-1)\n",
    "    correlation = np.corrcoef(original_image.flatten(), embedded_image.flatten())[0, 1]\n",
    "    \n",
    "    queue.put((image_path, psnr_value, ssim_value, correlation))\n",
    "    \n",
    "    return psnr_value, ssim_value, correlation\n",
    "\n",
    "\n",
    "\n",
    "def get_image_names(folder_path):\n",
    "    image_names = []\n",
    "    for filename in os.listdir(folder_path):\n",
    "        image_names.append(filename)\n",
    "    return image_names\n",
    "\n",
    "\n",
    "images_DIR = \"imagespng\\\\\"\n",
    "embedded_DIR = \"embedded\\\\\"\n",
    "image_names = get_image_names(images_DIR)\n",
    "data = {'Image Name': [], 'PSNR': [], 'SSIM': [], 'CC': []}\n",
    "queue = Queue() \n",
    "threads = [] \n",
    "\n",
    "\n",
    "for imgname in image_names:\n",
    "    image_path = images_DIR + imgname\n",
    "    embedded_path = embedded_DIR + 'watermarked_image_' + imgname\n",
    "    \n",
    "    # create a thread for each image pair and pass the queue as an argument\n",
    "    thread = threading.Thread(target=calculate_metrics, args=(image_path, embedded_path, queue))\n",
    "    threads.append(thread) # add the thread to the list\n",
    "    thread.start() # start the thread\n",
    "\n",
    "for thread in threads:\n",
    "    thread.join() # wait for all threads to finish\n",
    "\n",
    "while not queue.empty(): # get the results from the queue\n",
    "    image_path, psnr_value, ssim_value, correlation = queue.get()\n",
    "    \n",
    "    data['Image Name'].append(os.path.basename(image_path))\n",
    "    data['PSNR'].append(psnr_value)\n",
    "    data['SSIM'].append(ssim_value)\n",
    "    data['CC'].append(correlation)\n",
    "    \n",
    "\n",
    "\n",
    "df = pd.DataFrame(data)\n",
    "\n",
    "\n",
    "\n"
   ]
  },
  {
   "cell_type": "code",
   "execution_count": 9,
   "id": "7c18217d",
   "metadata": {},
   "outputs": [
    {
     "name": "stdout",
     "output_type": "stream",
     "text": [
      "Maximum values:\n",
      "PSNR    45.219366\n",
      "SSIM     0.994369\n",
      "CC       0.999842\n",
      "dtype: float64\n",
      "\n",
      "Minimum values:\n",
      "PSNR    37.000575\n",
      "SSIM     0.912855\n",
      "CC       0.981959\n",
      "dtype: float64\n",
      "\n",
      "Mean values:\n",
      "PSNR    39.589587\n",
      "SSIM     0.972150\n",
      "CC       0.998752\n",
      "dtype: float64\n"
     ]
    }
   ],
   "source": [
    "toprint(df)"
   ]
  },
  {
   "cell_type": "code",
   "execution_count": 10,
   "id": "4d07eccb",
   "metadata": {},
   "outputs": [],
   "source": [
    "df.to_csv('filecover.csv')"
   ]
  }
 ],
 "metadata": {
  "kernelspec": {
   "display_name": "Python 3 (ipykernel)",
   "language": "python",
   "name": "python3"
  },
  "language_info": {
   "codemirror_mode": {
    "name": "ipython",
    "version": 3
   },
   "file_extension": ".py",
   "mimetype": "text/x-python",
   "name": "python",
   "nbconvert_exporter": "python",
   "pygments_lexer": "ipython3",
   "version": "3.10.13"
  }
 },
 "nbformat": 4,
 "nbformat_minor": 5
}
