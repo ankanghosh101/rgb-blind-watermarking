{
 "cells": [
  {
   "cell_type": "code",
   "execution_count": 2,
   "id": "1e75216f",
   "metadata": {},
   "outputs": [],
   "source": [
    "import cv2\n",
    "import pywt\n",
    "import numpy as np\n",
    "import scipy.fftpack\n",
    "import os\n",
    "import threading\n",
    "\n"
   ]
  },
  {
   "cell_type": "code",
   "execution_count": 3,
   "id": "a9c21e06",
   "metadata": {},
   "outputs": [],
   "source": [
    "\n",
    "images_DIR = \"imagespng\\\\\"\n",
    "watermark_DIR = \"watermark\\\\WaterM.png\"\n",
    "embedded_DIR = \"embedded\\\\\"\n",
    "extracted_DIR =\"extracted\\\\\"\n",
    "\n",
    "\n",
    "channel = 0 #0:blue/y,1:green/cg,2:red/co\n",
    "\n",
    "def get_image_names(folder_path):\n",
    "    image_names = []\n",
    "    for filename in os.listdir(folder_path):\n",
    "        image_names.append(filename)\n",
    "    return image_names"
   ]
  },
  {
   "cell_type": "code",
   "execution_count": 4,
   "id": "382d560a-b863-491d-86e8-219fc6c7db40",
   "metadata": {},
   "outputs": [],
   "source": [
    "def extract_middle_portion(A, m, n, x, y):\n",
    "  \n",
    "  if x > m or y > n:\n",
    "    raise ValueError(\"x and y must be less than or equal to the corresponding dimensions of the matrix.\")\n",
    "\n",
    "  # Calculate the starting indices for the middle portion.\n",
    "  start_row = (m - x) // 2\n",
    "  start_col = (n - y) // 2\n",
    "\n",
    "  # Extract the middle portion.\n",
    "  return A[start_row:start_row+x, start_col:start_col+y]\n"
   ]
  },
  {
   "cell_type": "code",
   "execution_count": 5,
   "id": "f787a71e-fcb9-4360-a474-88865c6b3afd",
   "metadata": {},
   "outputs": [],
   "source": [
    "def insert_middle_portion(A, m, n, x, y, middle_portion):\n",
    " \n",
    "\n",
    "  if middle_portion.shape != (x, y):\n",
    "    raise ValueError(\"The dimensions of the middle portion must be (x, y).\")\n",
    "\n",
    "  # Calculate the starting indices for the middle portion.\n",
    "  start_row = (m - x) // 2\n",
    "  start_col = (n - y) // 2\n",
    "\n",
    "  # Create a copy of the original matrix to avoid modifying it in-place.\n",
    "  new_A = A.copy()\n",
    "\n",
    "  # Insert the middle portion into the new matrix.\n",
    "  new_A[start_row:start_row+x, start_col:start_col+y] = middle_portion\n",
    "\n",
    "  return new_A"
   ]
  },
  {
   "cell_type": "code",
   "execution_count": 6,
   "id": "1533530f",
   "metadata": {},
   "outputs": [],
   "source": [
    "def concatenate_color_image_to_2d(image):\n",
    "\n",
    "  # Get the dimensions of the image.\n",
    "  dims = image.shape\n",
    "\n",
    "  # Reshape the image into a 2D matrix, with the third dimension as the first dimension.\n",
    "  image = np.reshape(image, (dims[0], dims[1] * dims[2]))\n",
    "\n",
    "\n",
    "  # Return the concatenated image.\n",
    "  return image\n",
    "\n",
    "def deconcatenate_2d_to_color_image(matrix, dims):\n",
    "\n",
    "  # Reshape the matrix back into a 3D matrix.\n",
    "  image = np.reshape(matrix, dims)\n",
    "\n",
    "  # Return the deconcatenated image.\n",
    "  return image\n",
    "\n"
   ]
  },
  {
   "cell_type": "code",
   "execution_count": 7,
   "id": "cc13817d",
   "metadata": {},
   "outputs": [],
   "source": [
    "def rgb_to_ycbcr_lossless(img_bgr):\n",
    "  matrix = np.array([[0.299, 0.587, 0.114],[-0.168736, -0.331264, 0.5],[0.5, -0.418688, -0.081312]], dtype=np.float64)\n",
    "  img_ycrcb = np.dot(img_bgr, matrix.T)\n",
    "  if (channel == 0):\n",
    "      return img_ycrcb\n",
    "  return img_bgr\n",
    "\n",
    "def ycbcr_to_rgb_lossless(img_ycrcb):\n",
    "  matrix = np.array([[1.0, 0.0, 1.402],[1.0, -0.344136, -0.714136],[1.0, 1.772, 0.0]], dtype=np.float64)\n",
    "  img_bgr = np.dot(img_ycrcb, matrix.T)\n",
    "  if (channel == 0):\n",
    "      return img_bgr\n",
    "\n",
    "  return img_ycrcb"
   ]
  },
  {
   "cell_type": "code",
   "execution_count": 8,
   "id": "cd0b3c93",
   "metadata": {},
   "outputs": [],
   "source": [
    "\n",
    "\n",
    "def row_even_odd_split(array):\n",
    "    \n",
    "  even_array = array[::2, :]\n",
    "  odd_array = array[1::2, :]\n",
    "  return even_array, odd_array\n",
    "\n",
    "def column_even_odd_split(array):\n",
    "\n",
    "  even_array = array[:, ::2]\n",
    "  odd_array = array[:, 1::2]\n",
    "  return even_array, odd_array\n",
    "\n",
    "def row_even_odd_merge(even_array, odd_array):\n",
    "\n",
    "  original_array = np.zeros((even_array.shape[0] * 2, even_array.shape[1]), dtype=even_array.dtype)\n",
    "  original_array[::2, :] = even_array\n",
    "  original_array[1::2, :] = odd_array\n",
    "  return original_array\n",
    "\n",
    "def column_even_odd_merge(even_array, odd_array):\n",
    "\n",
    "  original_array = np.zeros((even_array.shape[0], even_array.shape[1]* 2), dtype=even_array.dtype)\n",
    "  original_array[:, ::2] = even_array\n",
    "  original_array[:, 1::2] = odd_array\n",
    "  return original_array\n",
    "\n",
    "def even_odd_split(matrix):\n",
    "    flag = False\n",
    "    last_elements = None\n",
    "    if matrix.shape[0]>=matrix.shape[1]:#if row length > column length a or square matrix\n",
    "        flag = True\n",
    "        if matrix.shape[0]%2 != 0:\n",
    "            last_elements = matrix[-1, :]\n",
    "            matrix = matrix[:-1, :]\n",
    "        even, odd = row_even_odd_split(matrix)              \n",
    "    else:\n",
    "        #print(matrix.shape) #if row length < column length a\n",
    "        if matrix.shape[1]%2 != 0:\n",
    "            last_elements = matrix[:, -1]\n",
    "            matrix = matrix[:, :-1]\n",
    "        even, odd = column_even_odd_split(matrix)\n",
    "        #print(matrix.shape)\n",
    "\n",
    "    return even, odd, flag, last_elements\n",
    "\n",
    "def even_Odd_merge(even, odd, flag, last_elements):\n",
    "    \n",
    "    if flag:\n",
    "        matrix = row_even_odd_merge(even, odd)\n",
    "        if last_elements is not None:\n",
    "            matrix = np.append(matrix, [last_elements], axis=0)\n",
    "            \n",
    "    else:\n",
    "        matrix = column_even_odd_merge(even, odd)\n",
    "        if last_elements is not None:\n",
    "            matrix = np.append(matrix, last_elements[:, np.newaxis], axis=1)\n",
    "            \n",
    "    return matrix"
   ]
  },
  {
   "cell_type": "code",
   "execution_count": 9,
   "id": "f4617b2c",
   "metadata": {},
   "outputs": [],
   "source": [
    "def embedd_matrix(COVER, WATERMARK,alpha=0.1):\n",
    "    alpha = np.float64(alpha)\n",
    "    two = np.float64(2.)\n",
    "    \n",
    "    WATERMARK = np.float64(WATERMARK)\n",
    "   \n",
    "    WATERMARK *= alpha\n",
    "\n",
    "    Wrow,Wcol = WATERMARK.shape\n",
    "    \n",
    "    even, odd, flag, last = even_odd_split(COVER)\n",
    "    roweven, coleven = even.shape\n",
    "   \n",
    "    \n",
    "\n",
    "    ZZeven = extract_middle_portion(even.copy(), roweven, coleven, Wrow, Wcol)\n",
    "    ZZodd = extract_middle_portion(odd.copy(), roweven, coleven,Wrow, Wcol)\n",
    "\n",
    "\n",
    "    \n",
    "    Aeven = (ZZeven + ZZodd)/two\n",
    "    Aodd = (ZZeven + ZZodd)/two\n",
    "\n",
    "    Aeven += WATERMARK\n",
    "    Aodd -= WATERMARK\n",
    "\n",
    "\n",
    "    newEven = insert_middle_portion(even.copy(), roweven, coleven, Wrow, Wcol, Aeven)\n",
    "    newOdd = insert_middle_portion(odd.copy(), roweven, coleven,Wrow, Wcol, Aodd)\n",
    "\n",
    "    A = even_Odd_merge(newEven, newOdd, flag, last)\n",
    "    \n",
    "    \n",
    "    return A\n",
    "\n",
    "def recover_watermark(A,shape,alpha=0.1):#recover_watermark(A, rowW, colW, alpha=0.1):\n",
    "    alpha = np.float64(alpha)\n",
    "    two = np.float64(2.)\n",
    "    \n",
    "    Wrow = shape[0]\n",
    "    Wcol = shape[1] * shape[2]\n",
    "    \n",
    "    evenw, oddw, flag, last= even_odd_split(A)\n",
    "    \n",
    " \n",
    "\n",
    "    roweven, coleven = evenw.shape\n",
    "    \n",
    "    \n",
    "    ZZeven = extract_middle_portion(evenw.copy(), roweven, coleven, Wrow, Wcol)\n",
    "    ZZodd = extract_middle_portion(oddw.copy(), roweven, coleven,Wrow, Wcol)\n",
    "\n",
    "   \n",
    "    \n",
    "\n",
    "    # Initialize matrix W with zeros\n",
    "    flattenW = np.zeros((Wrow,Wcol), dtype=np.float64)\n",
    "\n",
    "    # Iterate through even indices of A and recover B using the specified equation\n",
    "\n",
    "    flattenW = ((ZZeven - ZZodd)/two)\n",
    "    flattenW= flattenW/alpha\n",
    "    \n",
    "    \n",
    "    return flattenW\n"
   ]
  },
  {
   "cell_type": "code",
   "execution_count": 10,
   "id": "f0509bb9",
   "metadata": {},
   "outputs": [],
   "source": [
    "def process4embedd_image(image_name):\n",
    "     image_path = images_DIR+image_name\n",
    "     image = cv2.imread(image_path)\n",
    "     image = rgb_to_ycbcr_lossless(image)\n",
    "     watermark = cv2.imread(watermark_DIR)\n",
    "     water = concatenate_color_image_to_2d(watermark)\n",
    "     \n",
    "     b =image[:,:,channel]\n",
    "\n",
    "     last_row = None #for if dimension of image is in odd number\n",
    "     last_column = None\n",
    "\n",
    "\n",
    "     if b.shape[0] % 4 != 0:\n",
    "         rowLen=b.shape[0] % 4\n",
    "         last_row = b[-rowLen:,:]\n",
    "         b= b[:-rowLen,:]\n",
    "\n",
    "     if b.shape[1] % 4 != 0:\n",
    "         colLen=b.shape[1] % 4\n",
    "         last_column = b[:,-colLen:]\n",
    "         b= b[:,:-colLen]\n",
    "\n",
    "\n",
    "    \n",
    "     #wavedec2 documentation\n",
    "        # https://pywavelets.readthedocs.io/en/latest/ref/2d-dwt-and-idwt.html#d-multilevel-decomposition-using-wavedec2\n",
    "     #waverec2 documentation\n",
    "        # https://pywavelets.readthedocs.io/en/latest/ref/2d-dwt-and-idwt.html#d-multilevel-reconstruction-using-waverec2\n",
    "     #b_LL, (b_LH, b_HL, b_HH) = pywt.dwt2(b, 'db1')\n",
    "     values = pywt.wavedec2(b, 'coif3', mode='periodization', level=2)\n",
    "     (b_LH, b_HL, b_HH) = values[1]\n",
    "\n",
    "\n",
    "     Nb_HH = embedd_matrix(b_HH, water)\n",
    "        \n",
    "     values[1] = (b_LH, b_HL, Nb_HH)\n",
    "\n",
    "     b_inv_dwt = pywt.waverec2(values, 'coif3', mode='periodization')\n",
    "     b_inv_dwt = np.clip(b_inv_dwt, 0, 255) \n",
    "     b_inv_dwt = np.uint8(b_inv_dwt)\n",
    "\n",
    "\n",
    "     if last_column is not None: #combine back extracted row and column only for odd dim\n",
    "         b_inv_dwt = np.concatenate((b_inv_dwt, last_column), axis=1)\n",
    "     if last_row is not None: \n",
    "         b_inv_dwt = np.concatenate((b_inv_dwt, last_row), axis=0)\n",
    "\n",
    "     # Combine channel-------------------------------------------------------\n",
    "     image[:, :, channel] = b_inv_dwt\n",
    "     image = ycbcr_to_rgb_lossless(image)\n",
    "     embedded_image_path = embedded_DIR+\"watermarked_image_\"+image_name\n",
    "     cv2.imwrite(embedded_image_path, image)"
   ]
  },
  {
   "cell_type": "code",
   "execution_count": 11,
   "id": "5cf7389e",
   "metadata": {},
   "outputs": [],
   "source": [
    "def process4extract_image(image_name, MDIR=embedded_DIR, XDIR=extracted_DIR, shape=(32,32,3)):\n",
    "  wimage_path = MDIR+image_name\n",
    "  image1 = cv2.imread(wimage_path)\n",
    "  image = rgb_to_ycbcr_lossless(image1)\n",
    "  bwm =image[:, :, channel]\n",
    "\n",
    "  if bwm.shape[0] % 4 != 0:\n",
    "        rowLen=bwm.shape[0] % 4\n",
    "        last_row = bwm[-rowLen:,:]\n",
    "        bwm= bwm[:-rowLen,:]\n",
    "  \n",
    "  if bwm.shape[1] % 4 != 0:\n",
    "        colLen=bwm.shape[1] % 4\n",
    "        last_column = bwm[:,-colLen:]\n",
    "        bwm= bwm[:,:-colLen]\n",
    "\n",
    "  #bwm_LL, (bwm_LH, bwm_HL, bwm_HH) = pywt.dwt2(bwm, 'db1')\n",
    "  values = pywt.wavedec2(bwm, 'coif3', mode='periodization', level=2)\n",
    "  (b_LH, b_HL, b_HH) = values[1]\n",
    "\n",
    "\n",
    "    \n",
    "  water = recover_watermark(b_HH, shape)\n",
    "  watermark_ext = deconcatenate_2d_to_color_image(water,shape)\n",
    "\n",
    "  if not image_name.endswith(\".png\"):\n",
    "    image_name = image_name.split(\".\")[0] + \".png\"\n",
    "  extracted_water_path = XDIR+\"extracted_from_\"+image_name\n",
    "  cv2.imwrite(extracted_water_path, watermark_ext)\n",
    "\n"
   ]
  },
  {
   "cell_type": "markdown",
   "id": "411efd9e",
   "metadata": {},
   "source": [
    "## EMBED MULTITHREADED"
   ]
  },
  {
   "cell_type": "code",
   "execution_count": 13,
   "id": "0de0237b",
   "metadata": {},
   "outputs": [
    {
     "name": "stdout",
     "output_type": "stream",
     "text": [
      "CPU times: total: 2.83 s\n",
      "Wall time: 260 ms\n"
     ]
    }
   ],
   "source": [
    "%%time\n",
    "image_names = get_image_names(images_DIR)\n",
    "threads = []\n",
    "for imgname in image_names:\n",
    "    thread = threading.Thread(target=process4embedd_image, args=(imgname,))\n",
    "    threads.append(thread)\n",
    "\n",
    "\n",
    "for thread in threads:\n",
    "    thread.start()\n",
    "\n",
    "\n",
    "for thread in threads:\n",
    "    thread.join()"
   ]
  },
  {
   "cell_type": "markdown",
   "id": "3e4ad27b",
   "metadata": {},
   "source": [
    "## EMBED SINGLETHREADED"
   ]
  },
  {
   "cell_type": "code",
   "execution_count": 1,
   "id": "f69efa20",
   "metadata": {},
   "outputs": [
    {
     "data": {
      "text/plain": [
       "'\\nfor imgname in image_names:\\n    process4embedd_image(imgname)\\n'"
      ]
     },
     "execution_count": 1,
     "metadata": {},
     "output_type": "execute_result"
    }
   ],
   "source": [
    "'''\n",
    "for imgname in image_names:\n",
    "    process4embedd_image(imgname)\n",
    "'''"
   ]
  },
  {
   "cell_type": "markdown",
   "id": "807ee316",
   "metadata": {},
   "source": [
    "## EXTRACT MULTITHREADED"
   ]
  },
  {
   "cell_type": "code",
   "execution_count": 14,
   "id": "5911aaf9",
   "metadata": {},
   "outputs": [
    {
     "name": "stdout",
     "output_type": "stream",
     "text": [
      "CPU times: total: 1.28 s\n",
      "Wall time: 125 ms\n"
     ]
    }
   ],
   "source": [
    "%%time\n",
    "embedd_image_names = get_image_names(embedded_DIR)\n",
    "threads = []\n",
    "for imgname in embedd_image_names:\n",
    "    thread = threading.Thread(target=process4extract_image, args=(imgname,))\n",
    "    threads.append(thread)\n",
    "\n",
    "\n",
    "for thread in threads:\n",
    "    thread.start()\n",
    "\n",
    "\n",
    "for thread in threads:\n",
    "    thread.join()"
   ]
  },
  {
   "cell_type": "markdown",
   "id": "dd2cdac6",
   "metadata": {},
   "source": [
    "## EXTRACT SINGLETHREADED"
   ]
  },
  {
   "cell_type": "code",
   "execution_count": 2,
   "id": "bc14e0a3",
   "metadata": {},
   "outputs": [
    {
     "data": {
      "text/plain": [
       "'\\nfor imgname in embedd_image_names:\\n    process4extract_image(imgname)\\n'"
      ]
     },
     "execution_count": 2,
     "metadata": {},
     "output_type": "execute_result"
    }
   ],
   "source": [
    "'''\n",
    "for imgname in embedd_image_names:\n",
    "    process4extract_image(imgname)\n",
    "'''"
   ]
  }
 ],
 "metadata": {
  "kernelspec": {
   "display_name": "Python 3 (ipykernel)",
   "language": "python",
   "name": "python3"
  },
  "language_info": {
   "codemirror_mode": {
    "name": "ipython",
    "version": 3
   },
   "file_extension": ".py",
   "mimetype": "text/x-python",
   "name": "python",
   "nbconvert_exporter": "python",
   "pygments_lexer": "ipython3",
   "version": "3.10.13"
  }
 },
 "nbformat": 4,
 "nbformat_minor": 5
}
